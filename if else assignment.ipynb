{
 "cells": [
  {
   "cell_type": "markdown",
   "id": "d9054a93-7ac1-46bb-88af-12ad4e837121",
   "metadata": {},
   "source": [
    "Q1. Write a program to calculate the electricity bill\n",
    "using only if statement? (accept number of unit from user)\n",
    "according to the following criteria:\n",
    "\n",
    "Unit Price\n",
    "First 100 units no charge\n",
    "Next 100 units Rs 5 per unit\n",
    "After 200 units Rs 10 per unit\n",
    "(For example, if input unit is 350 than total bill amount is Rs2000). Lets explain...\n",
    "For first 100 no charges\n",
    "Now you have 250 unit remaining\n",
    "100-200 you need to pay – 100*5 = 500\n",
    "Now 200-100 you need to pay 150*10 = 1500\n",
    "Total = 500+1500 = 2000"
   ]
  },
  {
   "cell_type": "code",
   "execution_count": 16,
   "id": "72fac9d5-13e0-4d82-8747-fdd35c09d216",
   "metadata": {},
   "outputs": [
    {
     "name": "stdin",
     "output_type": "stream",
     "text": [
      "Enter units 350\n"
     ]
    },
    {
     "name": "stdout",
     "output_type": "stream",
     "text": [
      "2000\n"
     ]
    }
   ],
   "source": [
    "units = int(input(\"Enter units\"))\n",
    "if units <=100:\n",
    "    print(\"no charge\")\n",
    "if(units>100 and units<=200):\n",
    "    print((units - 100)*5)\n",
    "if(units >200):\n",
    "    units-= 100\n",
    "    if(units>100):\n",
    "        print(100*5+(units-100)*10)"
   ]
  },
  {
   "cell_type": "markdown",
   "id": "8984e6dd-ca08-4cc3-ae0b-bf08c72223b6",
   "metadata": {},
   "source": [
    "Q2. Write a program to accept percentage from the user and display\n",
    "the grade according to the following criteria:\n",
    " Marks          Grade\n",
    " > 90             A\n",
    " > 80 and <= 90   B\n",
    " >= 60 and <= 80  C\n",
    " below 60         D"
   ]
  },
  {
   "cell_type": "code",
   "execution_count": 2,
   "id": "de0e8cd3-4bb4-4e44-afd6-280a7b771b70",
   "metadata": {},
   "outputs": [
    {
     "name": "stdin",
     "output_type": "stream",
     "text": [
      "Enter your marks 84\n"
     ]
    },
    {
     "name": "stdout",
     "output_type": "stream",
     "text": [
      "B\n"
     ]
    }
   ],
   "source": [
    "marks = int(input(\"Enter your marks\"))\n",
    "if marks >90:\n",
    "    print(\"A\")\n",
    "elif (marks>80 and marks <=90):\n",
    "    print(\"B\")\n",
    "elif (marks>=60 and marks <=80):\n",
    "    print(\"C\")\n",
    "elif (marks>60):\n",
    "    print(\"D\")"
   ]
  },
  {
   "cell_type": "markdown",
   "id": "72c3946b-89ef-4fee-b6fb-9135da815788",
   "metadata": {},
   "source": [
    "Q3. Accept the age of 4 people and display the youngest one?"
   ]
  },
  {
   "cell_type": "code",
   "execution_count": 7,
   "id": "4bbfaeac-b134-4fb3-aa8d-06dd9ff37787",
   "metadata": {},
   "outputs": [
    {
     "name": "stdin",
     "output_type": "stream",
     "text": [
      "Enter the age of first person 23\n",
      "Enter the age of second person 45\n",
      "Enter the age of third person 20\n",
      "Enter the age of forth person 67\n"
     ]
    },
    {
     "name": "stdout",
     "output_type": "stream",
     "text": [
      "Third person is youngest\n"
     ]
    }
   ],
   "source": [
    "age1 = int(input(\"Enter the age of first person\"))\n",
    "age2 = int(input(\"Enter the age of second person\"))\n",
    "age3 = int(input(\"Enter the age of third person\"))\n",
    "age4 = int(input(\"Enter the age of forth person\"))\n",
    "\n",
    "if (age1<age2 and age1<age3 and age1<age4):\n",
    "    print(\"First person is youngest\")\n",
    "elif(age2<age3 and age2<age4 and age2<age1):\n",
    "    print(\"Second person is youngest\")\n",
    "elif (age3<age1 and age3<age2 and age3<age4):\n",
    "    print(\"Third person is youngest\")\n",
    "else:\n",
    "    print(\"Forth person is youngest\")"
   ]
  },
  {
   "cell_type": "markdown",
   "id": "b4575207-2842-44c3-9685-eb007b23fd95",
   "metadata": {},
   "source": [
    "Q4. A company decided to give bonus to employee\n",
    "according to following criteria:\n",
    " Time period of Service             Bonus\n",
    " More than 10 years                  10%\n",
    " >=6 and <=10                         8%\n",
    " Less than 6 years                    5%\n",
    "Ask user for their salary and years of service and print the\n",
    "net bonus amount?"
   ]
  },
  {
   "cell_type": "code",
   "execution_count": 15,
   "id": "626bda4e-b2b4-49dd-9c9b-9a18686ae4d5",
   "metadata": {},
   "outputs": [
    {
     "name": "stdin",
     "output_type": "stream",
     "text": [
      "Enter salary 5000\n",
      "Enter service years 9\n"
     ]
    },
    {
     "name": "stdout",
     "output_type": "stream",
     "text": [
      "Bonus 250.0\n"
     ]
    }
   ],
   "source": [
    "salary = int(input(\"Enter salary\"))\n",
    "service_time = int(input(\"Enter service years\"))\n",
    "\n",
    "if (service_time>10):\n",
    "    salary =(salary*10)/100\n",
    "    print(\"Bonus\",salary)\n",
    "elif(service_time>=10  and service_time<=6):\n",
    "    salary = (salary*8 )/100\n",
    "    print(\"Bonus\",salary)\n",
    "else:\n",
    "    salary = (salary*5)/100\n",
    "    print(\"Bonus\",salary)"
   ]
  },
  {
   "cell_type": "markdown",
   "id": "bd394865-a803-4cae-a031-eaa01e02d458",
   "metadata": {},
   "source": [
    "Q5. Accept three numbers from the user and\n",
    "display the second largest number?"
   ]
  },
  {
   "cell_type": "code",
   "execution_count": 2,
   "id": "fb71d75b-45d7-4feb-b83b-f0b7c749c6fc",
   "metadata": {},
   "outputs": [
    {
     "name": "stdin",
     "output_type": "stream",
     "text": [
      "Enter 1st number 4\n",
      "Enter 2nd number 5\n",
      "Enter 3rd number 2\n"
     ]
    },
    {
     "name": "stdout",
     "output_type": "stream",
     "text": [
      "second largest number 4\n"
     ]
    }
   ],
   "source": [
    "num1 = int(input(\"Enter 1st number\"))\n",
    "num2 = int(input(\"Enter 2nd number\"))\n",
    "num3 = int(input(\"Enter 3rd number\"))\n",
    "\n",
    "if (num1>num2 and num1>num3):\n",
    "    if(num2>num3):\n",
    "        print(\"second largest number\",num2)\n",
    "    else:\n",
    "        print(\"second largest number\",num3)\n",
    "\n",
    "if (num2>num3 and num2>num1):\n",
    "    if (num1>num3):\n",
    "        print(\"second largest number\",num1)\n",
    "    else:\n",
    "        print(\"second largest number\",num3)\n",
    "\n",
    "if (num3>num1 and num3>num2):\n",
    "    if (num2>num3):\n",
    "        print(\"second largest number\",num2)\n",
    "    else:\n",
    "        print(\"second largest number\",num1)\n",
    "        "
   ]
  },
  {
   "cell_type": "markdown",
   "id": "b468887d-52f1-47af-b297-65187baa7373",
   "metadata": {},
   "source": [
    "Q6. Accept the marked price from the user and calculate\n",
    "the Net amount as (Marked Price – Discount) to pay\n",
    "according to following criteria:\n",
    "\n",
    "Marked Price Discount\n",
    ">10000 20%\n",
    ">7000 and <=10000 15%\n",
    "<=7000 10%"
   ]
  },
  {
   "cell_type": "code",
   "execution_count": 9,
   "id": "364aa959-fa9d-4ed5-a784-e097be291a4f",
   "metadata": {},
   "outputs": [
    {
     "name": "stdin",
     "output_type": "stream",
     "text": [
      "Enter marked price 70000\n"
     ]
    },
    {
     "name": "stdout",
     "output_type": "stream",
     "text": [
      "Net amount after discount is 56000.0\n"
     ]
    }
   ],
   "source": [
    "marked_price = int(input(\"Enter marked price\"))\n",
    "\n",
    "if (marked_price>10000):\n",
    "    discount = (marked_price*20)/100\n",
    "    net_amount = (marked_price - discount)\n",
    "    print(\"Net amount after discount is\",net_amount)\n",
    "\n",
    "if (marked_price>7000 and marked_price<=10000):\n",
    "    discount = (marked_price*15)/100\n",
    "    net_amount = (marked_price - discount)\n",
    "    print(\"Net amount after discount is\",net_amount)\n",
    "\n",
    "if (marked_price<=7000):\n",
    "    discount = (marked_price*10)/100\n",
    "    net_amount = (marked_price - discount)\n",
    "    print(\"Net amount after discount is\",net_amount)\n",
    "    "
   ]
  },
  {
   "cell_type": "markdown",
   "id": "4f459111-46f6-424f-b2a5-35423e362861",
   "metadata": {},
   "source": [
    "Q7. Accept the marks of English, Math and Science,\n",
    "Social Studies Subject and display the stream allotted\n",
    "according to following:\n",
    "\n",
    "All Subjects more than 80 marks — Science Stream\n",
    "\n",
    "English >80 and Math, Science above 50 — Commerce Stream\n",
    "\n",
    "English > 80 and social studies > 80 — Humanities"
   ]
  },
  {
   "cell_type": "code",
   "execution_count": 18,
   "id": "84bf789f-920f-4ec7-8694-bdc7839e9735",
   "metadata": {},
   "outputs": [
    {
     "ename": "SyntaxError",
     "evalue": "invalid syntax (2235753948.py, line 8)",
     "output_type": "error",
     "traceback": [
      "\u001b[1;36m  Cell \u001b[1;32mIn[18], line 8\u001b[1;36m\u001b[0m\n\u001b[1;33m    elif((english_marks>80 and maths_marks>50 and science_marks>50):\u001b[0m\n\u001b[1;37m                                                                   ^\u001b[0m\n\u001b[1;31mSyntaxError\u001b[0m\u001b[1;31m:\u001b[0m invalid syntax\n"
     ]
    }
   ],
   "source": [
    "english_marks = int(input(\"Enter english marks\"))\n",
    "maths_marks = int(input(\"Enter maths marks\"))\n",
    "science_marks = int(input(\"Enter science marks\"))\n",
    "social_studies_marks = int(input(\"Enter social studies marks\"))\n",
    "\n",
    "if(english_marks>80 and maths_marks>80 and science_marks>80 and social_studies_marks>80):\n",
    "    print(\"!!1You have been selected for Science streaam!!!\")\n",
    "elif((english_marks>80 and maths_marks>50 and science_marks>50):\n",
    "    print(\"!!!!!!!You have been selected for Commerce stream!!!!!!!\")\n",
    "elif(english_marks>80 and social_studies_marks>80):\n",
    "    print(\"!!!You have been selected for Humanities!!!\")"
   ]
  },
  {
   "cell_type": "markdown",
   "id": "777733a8-1800-4e7d-8ecb-efd904bd97a9",
   "metadata": {},
   "source": [
    "Q8. Write a program to display \"Hello\" if a number entered\n",
    "by user is a multiple of five, otherwise print \"Bye\"?"
   ]
  },
  {
   "cell_type": "code",
   "execution_count": 1,
   "id": "8297df17-5461-4814-b653-779d7d018fbf",
   "metadata": {},
   "outputs": [
    {
     "name": "stdin",
     "output_type": "stream",
     "text": [
      "Enter number 575\n"
     ]
    },
    {
     "name": "stdout",
     "output_type": "stream",
     "text": [
      "Hello\n"
     ]
    }
   ],
   "source": [
    "i = int(input(\"Enter number\"))\n",
    "\n",
    "if(i%5 == 0):\n",
    "    print(\"Hello\")\n",
    "else:\n",
    "    print(\"Bye\")\n"
   ]
  },
  {
   "cell_type": "markdown",
   "id": "f6e0b1bd-085f-4b96-bf11-8845b54cc076",
   "metadata": {},
   "source": [
    "Q9. Write a program to check whether the last digit of a number\n",
    "(entered by user) is divisible by 3 or not?"
   ]
  },
  {
   "cell_type": "code",
   "execution_count": 17,
   "id": "9eb3dd40-db88-4de5-ab71-6b9ea515ee7e",
   "metadata": {},
   "outputs": [
    {
     "name": "stdin",
     "output_type": "stream",
     "text": [
      "Enter number 4457676\n"
     ]
    },
    {
     "name": "stdout",
     "output_type": "stream",
     "text": [
      "!!!NOT DIVISIBLE!!!\n"
     ]
    }
   ],
   "source": [
    "i =int(input(\"Enter number\"))\n",
    "\n",
    "last_digit = i\n",
    "if last_digit/3==0:\n",
    "    print(\"!!!DIVISIBLE!!!\")\n",
    "else:\n",
    "    print(\"!!!NOT DIVISIBLE!!!\")\n",
    "\n"
   ]
  },
  {
   "cell_type": "markdown",
   "id": "9a7ebce1-83ab-4b09-bd45-33b3ac0ce09f",
   "metadata": {},
   "source": [
    "Q10. Write a program to check whether a number entered\n",
    "is three-digit number or not?"
   ]
  },
  {
   "cell_type": "code",
   "execution_count": 14,
   "id": "f0d3dfe3-621f-4958-8401-9b27585be4c1",
   "metadata": {},
   "outputs": [
    {
     "name": "stdin",
     "output_type": "stream",
     "text": [
      "Enter number 768\n"
     ]
    },
    {
     "name": "stdout",
     "output_type": "stream",
     "text": [
      "It is a 3 digit number\n"
     ]
    }
   ],
   "source": [
    "num = input(\"Enter number\")\n",
    "Length=len(num)\n",
    "\n",
    "if (Length!=3):\n",
    "    print(\"It is not a 3 digit number\")\n",
    "else:\n",
    "    print(\"It is a 3 digit number\")"
   ]
  }
 ],
 "metadata": {
  "kernelspec": {
   "display_name": "Python 3 (ipykernel)",
   "language": "python",
   "name": "python3"
  },
  "language_info": {
   "codemirror_mode": {
    "name": "ipython",
    "version": 3
   },
   "file_extension": ".py",
   "mimetype": "text/x-python",
   "name": "python",
   "nbconvert_exporter": "python",
   "pygments_lexer": "ipython3",
   "version": "3.12.5"
  }
 },
 "nbformat": 4,
 "nbformat_minor": 5
}
